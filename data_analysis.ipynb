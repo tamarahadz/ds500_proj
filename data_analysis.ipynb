{
 "cells": [
  {
   "cell_type": "markdown",
   "metadata": {},
   "source": [
    "# Main Code for DS2500 Project"
   ]
  },
  {
   "cell_type": "code",
   "execution_count": 137,
   "metadata": {},
   "outputs": [],
   "source": [
    "import sklearn\n",
    "import pandas as pd\n",
    "import geopandas as gpd\n",
    "import os\n",
    "import matplotlib.pyplot as plt\n",
    "import seaborn as sns"
   ]
  },
  {
   "cell_type": "markdown",
   "metadata": {},
   "source": [
    "## Data Preparation"
   ]
  },
  {
   "cell_type": "markdown",
   "metadata": {},
   "source": [
    "First data file: dashboard data (no current information about closings, but it does have the latitude and longitude of each public beach in Massachusetts)"
   ]
  },
  {
   "cell_type": "code",
   "execution_count": 130,
   "metadata": {},
   "outputs": [
    {
     "data": {
      "text/html": [
       "<div>\n",
       "<style scoped>\n",
       "    .dataframe tbody tr th:only-of-type {\n",
       "        vertical-align: middle;\n",
       "    }\n",
       "\n",
       "    .dataframe tbody tr th {\n",
       "        vertical-align: top;\n",
       "    }\n",
       "\n",
       "    .dataframe thead th {\n",
       "        text-align: right;\n",
       "    }\n",
       "</style>\n",
       "<table border=\"1\" class=\"dataframe\">\n",
       "  <thead>\n",
       "    <tr style=\"text-align: right;\">\n",
       "      <th></th>\n",
       "      <th>Town</th>\n",
       "      <th>Beach Name</th>\n",
       "      <th>Latitude</th>\n",
       "      <th>Longitude</th>\n",
       "    </tr>\n",
       "  </thead>\n",
       "  <tbody>\n",
       "    <tr>\n",
       "      <th>9</th>\n",
       "      <td>Aquinnah</td>\n",
       "      <td>Lobsterville</td>\n",
       "      <td>41.353757</td>\n",
       "      <td>-70.819183</td>\n",
       "    </tr>\n",
       "    <tr>\n",
       "      <th>10</th>\n",
       "      <td>Aquinnah</td>\n",
       "      <td>Moshup Beach</td>\n",
       "      <td>41.349380</td>\n",
       "      <td>-70.836215</td>\n",
       "    </tr>\n",
       "    <tr>\n",
       "      <th>11</th>\n",
       "      <td>Aquinnah</td>\n",
       "      <td>Philbin Beach</td>\n",
       "      <td>41.339342</td>\n",
       "      <td>-70.831048</td>\n",
       "    </tr>\n",
       "    <tr>\n",
       "      <th>12</th>\n",
       "      <td>Aquinnah</td>\n",
       "      <td>Red Beach</td>\n",
       "      <td>41.343526</td>\n",
       "      <td>-70.784030</td>\n",
       "    </tr>\n",
       "    <tr>\n",
       "      <th>23</th>\n",
       "      <td>Barnstable</td>\n",
       "      <td>Covell's</td>\n",
       "      <td>41.635605</td>\n",
       "      <td>-70.334955</td>\n",
       "    </tr>\n",
       "  </tbody>\n",
       "</table>\n",
       "</div>"
      ],
      "text/plain": [
       "          Town     Beach Name   Latitude  Longitude\n",
       "9     Aquinnah   Lobsterville  41.353757 -70.819183\n",
       "10    Aquinnah   Moshup Beach  41.349380 -70.836215\n",
       "11    Aquinnah  Philbin Beach  41.339342 -70.831048\n",
       "12    Aquinnah      Red Beach  41.343526 -70.784030\n",
       "23  Barnstable       Covell's  41.635605 -70.334955"
      ]
     },
     "execution_count": 130,
     "metadata": {},
     "output_type": "execute_result"
    }
   ],
   "source": [
    "df = pd.read_excel('closings/BeachDashboardData-09-05.xlsx')\n",
    "df = df[df[\"Marine or Freshwater\"]==\"Marine\"]\n",
    "df = df.drop(columns=[\"Closure Status Beach\", \"Marine or Freshwater\"])\n",
    "df.head(5)"
   ]
  },
  {
   "cell_type": "markdown",
   "metadata": {},
   "source": [
    "Second data file: shapefile of Masachusetts beaches (filtered to only the beaches in the dashboard data, since this file comes from the EPA, ie not all beaches in this file are public bathing beaches)"
   ]
  },
  {
   "cell_type": "code",
   "execution_count": 131,
   "metadata": {},
   "outputs": [
    {
     "data": {
      "text/html": [
       "<div>\n",
       "<style scoped>\n",
       "    .dataframe tbody tr th:only-of-type {\n",
       "        vertical-align: middle;\n",
       "    }\n",
       "\n",
       "    .dataframe tbody tr th {\n",
       "        vertical-align: top;\n",
       "    }\n",
       "\n",
       "    .dataframe thead th {\n",
       "        text-align: right;\n",
       "    }\n",
       "</style>\n",
       "<table border=\"1\" class=\"dataframe\">\n",
       "  <thead>\n",
       "    <tr style=\"text-align: right;\">\n",
       "      <th></th>\n",
       "      <th>Beach Name</th>\n",
       "      <th>geometry</th>\n",
       "    </tr>\n",
       "  </thead>\n",
       "  <tbody>\n",
       "    <tr>\n",
       "      <th>59</th>\n",
       "      <td>Crocker Park</td>\n",
       "      <td>POINT (253560.704 917110.151)</td>\n",
       "    </tr>\n",
       "    <tr>\n",
       "      <th>60</th>\n",
       "      <td>Crocker Park</td>\n",
       "      <td>POINT (253557.294 917108.531)</td>\n",
       "    </tr>\n",
       "    <tr>\n",
       "      <th>61</th>\n",
       "      <td>Crocker Park</td>\n",
       "      <td>POINT (253559.364 917108.831)</td>\n",
       "    </tr>\n",
       "    <tr>\n",
       "      <th>62</th>\n",
       "      <td>Crocker Park</td>\n",
       "      <td>POINT (253555.244 917112.971)</td>\n",
       "    </tr>\n",
       "    <tr>\n",
       "      <th>63</th>\n",
       "      <td>Crocker Park</td>\n",
       "      <td>POINT (253555.354 917114.561)</td>\n",
       "    </tr>\n",
       "  </tbody>\n",
       "</table>\n",
       "</div>"
      ],
      "text/plain": [
       "      Beach Name                       geometry\n",
       "59  Crocker Park  POINT (253560.704 917110.151)\n",
       "60  Crocker Park  POINT (253557.294 917108.531)\n",
       "61  Crocker Park  POINT (253559.364 917108.831)\n",
       "62  Crocker Park  POINT (253555.244 917112.971)\n",
       "63  Crocker Park  POINT (253555.354 917114.561)"
      ]
     },
     "execution_count": 131,
     "metadata": {},
     "output_type": "execute_result"
    }
   ],
   "source": [
    "geodf = gpd.read_file(\"geodata/MARINEBEACHES_PT.shp\")\n",
    "geodf = geodf[[\"BEACHNAME\", \"geometry\"]]\n",
    "geodf = geodf.rename(columns={\"BEACHNAME\": \"Beach Name\"})\n",
    "geodf = geodf.loc[[val in list(df[\"Beach Name\"]) for val in list(geodf[\"Beach Name\"])]]\n",
    "geodf.head(5)"
   ]
  },
  {
   "cell_type": "markdown",
   "metadata": {},
   "source": [
    "Example of the third data file: A csv of closed beaches along with the type of beach and the reason for closing"
   ]
  },
  {
   "cell_type": "code",
   "execution_count": 132,
   "metadata": {},
   "outputs": [
    {
     "data": {
      "text/html": [
       "<div>\n",
       "<style scoped>\n",
       "    .dataframe tbody tr th:only-of-type {\n",
       "        vertical-align: middle;\n",
       "    }\n",
       "\n",
       "    .dataframe tbody tr th {\n",
       "        vertical-align: top;\n",
       "    }\n",
       "\n",
       "    .dataframe thead th {\n",
       "        text-align: right;\n",
       "    }\n",
       "</style>\n",
       "<table border=\"1\" class=\"dataframe\">\n",
       "  <thead>\n",
       "    <tr style=\"text-align: right;\">\n",
       "      <th></th>\n",
       "      <th>Municipality</th>\n",
       "      <th>Beach</th>\n",
       "      <th>Beach Type</th>\n",
       "      <th>Posting Reason</th>\n",
       "    </tr>\n",
       "  </thead>\n",
       "  <tbody>\n",
       "    <tr>\n",
       "      <th>0</th>\n",
       "      <td>Agawam</td>\n",
       "      <td>Robinson Pond Beach (DCR)</td>\n",
       "      <td>Freshwater</td>\n",
       "      <td>Bacterial Exceedance</td>\n",
       "    </tr>\n",
       "    <tr>\n",
       "      <th>1</th>\n",
       "      <td>Ashby</td>\n",
       "      <td>Damon Pond Beach (DCR)</td>\n",
       "      <td>Freshwater</td>\n",
       "      <td>Bacterial Exceedance</td>\n",
       "    </tr>\n",
       "    <tr>\n",
       "      <th>2</th>\n",
       "      <td>Athol</td>\n",
       "      <td>Ellis Beach</td>\n",
       "      <td>Freshwater</td>\n",
       "      <td>Bacterial Exceedance</td>\n",
       "    </tr>\n",
       "    <tr>\n",
       "      <th>3</th>\n",
       "      <td>Beverly</td>\n",
       "      <td>Dane Street - Bathhouse</td>\n",
       "      <td>Marine</td>\n",
       "      <td>Bacterial Exceedance</td>\n",
       "    </tr>\n",
       "    <tr>\n",
       "      <th>4</th>\n",
       "      <td>Beverly</td>\n",
       "      <td>Brackenbury</td>\n",
       "      <td>Marine</td>\n",
       "      <td>Bacterial Exceedance</td>\n",
       "    </tr>\n",
       "  </tbody>\n",
       "</table>\n",
       "</div>"
      ],
      "text/plain": [
       "  Municipality                      Beach  Beach Type        Posting Reason\n",
       "0       Agawam  Robinson Pond Beach (DCR)  Freshwater  Bacterial Exceedance\n",
       "1        Ashby     Damon Pond Beach (DCR)  Freshwater  Bacterial Exceedance\n",
       "2        Athol                Ellis Beach  Freshwater  Bacterial Exceedance\n",
       "3      Beverly    Dane Street - Bathhouse      Marine  Bacterial Exceedance\n",
       "4      Beverly                Brackenbury      Marine  Bacterial Exceedance"
      ]
     },
     "execution_count": 132,
     "metadata": {},
     "output_type": "execute_result"
    }
   ],
   "source": [
    "example = pd.read_csv(f'closings/BeachPostingTbl-07-05-23.csv')\n",
    "example.head(5)"
   ]
  },
  {
   "cell_type": "markdown",
   "metadata": {},
   "source": [
    "## Feature Engineering: Beach Closings by Week"
   ]
  },
  {
   "cell_type": "markdown",
   "metadata": {},
   "source": [
    "All files were read in and filtered to marine beaches closed for bacterial exceedance to give us a list of closed beaches for that day. The information was put into a matrix with the columns as dates (all in July) and the rows as True (beach was closed on that day) or False (beach was open on that day)"
   ]
  },
  {
   "cell_type": "code",
   "execution_count": 138,
   "metadata": {},
   "outputs": [
    {
     "data": {
      "text/html": [
       "<div>\n",
       "<style scoped>\n",
       "    .dataframe tbody tr th:only-of-type {\n",
       "        vertical-align: middle;\n",
       "    }\n",
       "\n",
       "    .dataframe tbody tr th {\n",
       "        vertical-align: top;\n",
       "    }\n",
       "\n",
       "    .dataframe thead th {\n",
       "        text-align: right;\n",
       "    }\n",
       "</style>\n",
       "<table border=\"1\" class=\"dataframe\">\n",
       "  <thead>\n",
       "    <tr style=\"text-align: right;\">\n",
       "      <th></th>\n",
       "      <th>5</th>\n",
       "      <th>6</th>\n",
       "      <th>7</th>\n",
       "      <th>10</th>\n",
       "      <th>12</th>\n",
       "      <th>13</th>\n",
       "      <th>14</th>\n",
       "      <th>17</th>\n",
       "      <th>18</th>\n",
       "      <th>19</th>\n",
       "      <th>20</th>\n",
       "      <th>21</th>\n",
       "      <th>24</th>\n",
       "      <th>25</th>\n",
       "      <th>26</th>\n",
       "      <th>27</th>\n",
       "    </tr>\n",
       "  </thead>\n",
       "  <tbody>\n",
       "    <tr>\n",
       "      <th>9</th>\n",
       "      <td>False</td>\n",
       "      <td>False</td>\n",
       "      <td>False</td>\n",
       "      <td>False</td>\n",
       "      <td>False</td>\n",
       "      <td>False</td>\n",
       "      <td>False</td>\n",
       "      <td>False</td>\n",
       "      <td>False</td>\n",
       "      <td>False</td>\n",
       "      <td>False</td>\n",
       "      <td>False</td>\n",
       "      <td>False</td>\n",
       "      <td>False</td>\n",
       "      <td>False</td>\n",
       "      <td>False</td>\n",
       "    </tr>\n",
       "    <tr>\n",
       "      <th>10</th>\n",
       "      <td>False</td>\n",
       "      <td>False</td>\n",
       "      <td>False</td>\n",
       "      <td>False</td>\n",
       "      <td>False</td>\n",
       "      <td>False</td>\n",
       "      <td>False</td>\n",
       "      <td>False</td>\n",
       "      <td>False</td>\n",
       "      <td>False</td>\n",
       "      <td>False</td>\n",
       "      <td>False</td>\n",
       "      <td>False</td>\n",
       "      <td>False</td>\n",
       "      <td>False</td>\n",
       "      <td>False</td>\n",
       "    </tr>\n",
       "    <tr>\n",
       "      <th>11</th>\n",
       "      <td>False</td>\n",
       "      <td>False</td>\n",
       "      <td>False</td>\n",
       "      <td>False</td>\n",
       "      <td>False</td>\n",
       "      <td>False</td>\n",
       "      <td>False</td>\n",
       "      <td>False</td>\n",
       "      <td>False</td>\n",
       "      <td>False</td>\n",
       "      <td>False</td>\n",
       "      <td>False</td>\n",
       "      <td>False</td>\n",
       "      <td>False</td>\n",
       "      <td>False</td>\n",
       "      <td>False</td>\n",
       "    </tr>\n",
       "    <tr>\n",
       "      <th>12</th>\n",
       "      <td>False</td>\n",
       "      <td>False</td>\n",
       "      <td>False</td>\n",
       "      <td>False</td>\n",
       "      <td>False</td>\n",
       "      <td>False</td>\n",
       "      <td>False</td>\n",
       "      <td>False</td>\n",
       "      <td>False</td>\n",
       "      <td>False</td>\n",
       "      <td>False</td>\n",
       "      <td>False</td>\n",
       "      <td>False</td>\n",
       "      <td>False</td>\n",
       "      <td>False</td>\n",
       "      <td>False</td>\n",
       "    </tr>\n",
       "    <tr>\n",
       "      <th>23</th>\n",
       "      <td>False</td>\n",
       "      <td>False</td>\n",
       "      <td>False</td>\n",
       "      <td>False</td>\n",
       "      <td>False</td>\n",
       "      <td>False</td>\n",
       "      <td>False</td>\n",
       "      <td>False</td>\n",
       "      <td>False</td>\n",
       "      <td>False</td>\n",
       "      <td>False</td>\n",
       "      <td>False</td>\n",
       "      <td>False</td>\n",
       "      <td>False</td>\n",
       "      <td>False</td>\n",
       "      <td>False</td>\n",
       "    </tr>\n",
       "  </tbody>\n",
       "</table>\n",
       "</div>"
      ],
      "text/plain": [
       "       5      6      7      10     12     13     14     17     18     19  \\\n",
       "9   False  False  False  False  False  False  False  False  False  False   \n",
       "10  False  False  False  False  False  False  False  False  False  False   \n",
       "11  False  False  False  False  False  False  False  False  False  False   \n",
       "12  False  False  False  False  False  False  False  False  False  False   \n",
       "23  False  False  False  False  False  False  False  False  False  False   \n",
       "\n",
       "       20     21     24     25     26     27  \n",
       "9   False  False  False  False  False  False  \n",
       "10  False  False  False  False  False  False  \n",
       "11  False  False  False  False  False  False  \n",
       "12  False  False  False  False  False  False  \n",
       "23  False  False  False  False  False  False  "
      ]
     },
     "execution_count": 138,
     "metadata": {},
     "output_type": "execute_result"
    }
   ],
   "source": [
    "filenames = os.listdir(\"closings\")[1:]\n",
    "\n",
    "closings = pd.DataFrame()\n",
    "for filename in filenames:\n",
    "    beach = pd.read_csv(f'closings/{filename}')\n",
    "    beach = beach[(beach[\"Posting Reason\"]==\"Bacterial Exceedance\") & (beach[\"Beach Type\"]==\"Marine\")]\n",
    "    closed_beaches = list(beach[\"Beach\"])\n",
    "\n",
    "    date = filename.split(\"-\")[2]\n",
    "\n",
    "    closings[int(date)] = df['Beach Name'].apply(lambda x: x in closed_beaches)\n",
    "\n",
    "closings.head(5)\n"
   ]
  },
  {
   "cell_type": "markdown",
   "metadata": {},
   "source": [
    "In order to turn this into features, we expressed these values as percent of the time that the beach was closed each week. For each week, we filtered the matrix of closings for only the days in those week, and calculated the percentage of time each beach was closed during that week. Then, we appended this to the dataframe of all beaches"
   ]
  },
  {
   "cell_type": "code",
   "execution_count": 134,
   "metadata": {},
   "outputs": [],
   "source": [
    "calendar = {\"W1 % Closed\":range(1,9),\n",
    "            \"W2 % Closed\":range(9,16),\n",
    "            \"W3 % Closed\":range(16,23)}\n",
    "\n",
    "for key, value in calendar.items():\n",
    "    dates_in_week = [date for date in list(closings.columns) if date in value]\n",
    "    filtered_df = closings[dates_in_week]\n",
    "    total_closings = filtered_df.sum(axis=1)\n",
    "    percent_closings = total_closings.apply(lambda x: x/len(dates_in_week))\n",
    "\n",
    "    df[key]= percent_closings    "
   ]
  },
  {
   "cell_type": "markdown",
   "metadata": {},
   "source": [
    "Histogram of beach closings - the majority of beaches were open, so if we were to use just this data by itself our model would likely overfit. However, we hope by incorperating location information (latitude and longitude) and weather information (rainfall), we can get a better model"
   ]
  },
  {
   "cell_type": "code",
   "execution_count": 135,
   "metadata": {},
   "outputs": [
    {
     "data": {
      "text/plain": [
       "<matplotlib.legend.Legend at 0x1d308c89b20>"
      ]
     },
     "execution_count": 135,
     "metadata": {},
     "output_type": "execute_result"
    },
    {
     "data": {
      "image/png": "[encoded data removed]",
      "text/plain": [
       "<Figure size 640x480 with 1 Axes>"
      ]
     },
     "metadata": {},
     "output_type": "display_data"
    }
   ],
   "source": [
    "sns.set_theme()\n",
    "plt.hist(df[[\"W1 % Closed\", \"W2 % Closed\", \"W3 % Closed\"]], color=['skyblue','crimson','gold'], \n",
    "         label=[\"W1 % Closed\", \"W2 % Closed\", \"W3 % Closed\"])\n",
    "plt.legend()"
   ]
  }
 ],
 "metadata": {
  "kernelspec": {
   "display_name": "mass_beach",
   "language": "python",
   "name": "python3"
  },
  "language_info": {
   "codemirror_mode": {
    "name": "ipython",
    "version": 3
   },
   "file_extension": ".py",
   "mimetype": "text/x-python",
   "name": "python",
   "nbconvert_exporter": "python",
   "pygments_lexer": "ipython3",
   "version": "3.9.18"
  }
 },
 "nbformat": 4,
 "nbformat_minor": 2
}
