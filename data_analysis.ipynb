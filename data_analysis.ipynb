{
 "cells": [
  {
   "cell_type": "markdown",
   "metadata": {},
   "source": [
    "# Main Code for DS2500 Project"
   ]
  },
  {
   "cell_type": "code",
   "execution_count": 153,
   "metadata": {},
   "outputs": [],
   "source": [
    "import pandas as pd\n",
    "import geopandas as gpd\n",
    "import os\n",
    "import matplotlib.pyplot as plt\n",
    "import seaborn as sns\n",
    "import numpy as np\n",
    "import requests \n",
    "import math\n",
    "from sklearn.preprocessing import MinMaxScaler\n",
    "from sklearn.neighbors import KNeighborsClassifier\n",
    "from sklearn.model_selection import train_test_split\n",
    "from sklearn.model_selection import cross_val_score\n",
    "from sklearn.model_selection import KFold\n",
    "from sklearn import metrics"
   ]
  },
  {
   "cell_type": "markdown",
   "metadata": {},
   "source": [
    "## Data Preparation"
   ]
  },
  {
   "cell_type": "markdown",
   "metadata": {},
   "source": [
    "First data file: dashboard data (no current information about closings, but it does have the latitude and longitude of each public beach in Massachusetts)"
   ]
  },
  {
   "cell_type": "code",
   "execution_count": 135,
   "metadata": {},
   "outputs": [
    {
     "data": {
      "text/plain": [
       "['Lobsterville', 'Moshup', 'Philbin', 'Red', \"Covell's\", 'Craigville']"
      ]
     },
     "execution_count": 135,
     "metadata": {},
     "output_type": "execute_result"
    }
   ],
   "source": [
    "df = pd.read_excel('closings/BeachDashboardData-09-05.xlsx')\n",
    "df = df[df[\"Marine or Freshwater\"]==\"Marine\"]\n",
    "public_beaches = list(df[\"Beach Name\"])\n",
    "public_beaches = [name.split(\" -\")[0].split(\" (\")[0].split(\" @\")[0].split(\" Beach\")[0] for name in public_beaches]\n",
    "\n",
    "public_beaches[0:6]"
   ]
  },
  {
   "cell_type": "markdown",
   "metadata": {},
   "source": [
    "Second data file: shapefile of Masachusetts beaches (filtered to only the beaches in the dashboard data, since this file comes from the EPA, ie not all beaches in this file are public bathing beaches)"
   ]
  },
  {
   "cell_type": "code",
   "execution_count": 136,
   "metadata": {},
   "outputs": [
    {
     "data": {
      "text/html": [
       "<div>\n",
       "<style scoped>\n",
       "    .dataframe tbody tr th:only-of-type {\n",
       "        vertical-align: middle;\n",
       "    }\n",
       "\n",
       "    .dataframe tbody tr th {\n",
       "        vertical-align: top;\n",
       "    }\n",
       "\n",
       "    .dataframe thead th {\n",
       "        text-align: right;\n",
       "    }\n",
       "</style>\n",
       "<table border=\"1\" class=\"dataframe\">\n",
       "  <thead>\n",
       "    <tr style=\"text-align: right;\">\n",
       "      <th></th>\n",
       "      <th>Beach Name</th>\n",
       "      <th>LATITUDE</th>\n",
       "      <th>LONGITUDE</th>\n",
       "      <th>COUNTYNAME</th>\n",
       "      <th>geometry</th>\n",
       "    </tr>\n",
       "  </thead>\n",
       "  <tbody>\n",
       "    <tr>\n",
       "      <th>0</th>\n",
       "      <td>Wollaston</td>\n",
       "      <td>42.266521</td>\n",
       "      <td>-70.996756</td>\n",
       "      <td>Norfolk</td>\n",
       "      <td>POINT (241518.014 890794.791)</td>\n",
       "    </tr>\n",
       "    <tr>\n",
       "      <th>59</th>\n",
       "      <td>Crocker Park</td>\n",
       "      <td>42.502692</td>\n",
       "      <td>-70.848354</td>\n",
       "      <td>Essex</td>\n",
       "      <td>POINT (253560.704 917110.151)</td>\n",
       "    </tr>\n",
       "    <tr>\n",
       "      <th>64</th>\n",
       "      <td>Tudor</td>\n",
       "      <td>42.423344</td>\n",
       "      <td>-70.918056</td>\n",
       "      <td>Essex</td>\n",
       "      <td>POINT (247891.904 908255.061)</td>\n",
       "    </tr>\n",
       "    <tr>\n",
       "      <th>85</th>\n",
       "      <td>Black Rock</td>\n",
       "      <td>42.430022</td>\n",
       "      <td>-70.934792</td>\n",
       "      <td>Essex</td>\n",
       "      <td>POINT (246509.694 908987.581)</td>\n",
       "    </tr>\n",
       "    <tr>\n",
       "      <th>93</th>\n",
       "      <td>Short</td>\n",
       "      <td>42.433719</td>\n",
       "      <td>-70.934575</td>\n",
       "      <td>Essex</td>\n",
       "      <td>POINT (246524.834 909398.271)</td>\n",
       "    </tr>\n",
       "  </tbody>\n",
       "</table>\n",
       "</div>"
      ],
      "text/plain": [
       "      Beach Name   LATITUDE  LONGITUDE COUNTYNAME  \\\n",
       "0      Wollaston  42.266521 -70.996756    Norfolk   \n",
       "59  Crocker Park  42.502692 -70.848354      Essex   \n",
       "64         Tudor  42.423344 -70.918056      Essex   \n",
       "85    Black Rock  42.430022 -70.934792      Essex   \n",
       "93         Short  42.433719 -70.934575      Essex   \n",
       "\n",
       "                         geometry  \n",
       "0   POINT (241518.014 890794.791)  \n",
       "59  POINT (253560.704 917110.151)  \n",
       "64  POINT (247891.904 908255.061)  \n",
       "85  POINT (246509.694 908987.581)  \n",
       "93  POINT (246524.834 909398.271)  "
      ]
     },
     "execution_count": 136,
     "metadata": {},
     "output_type": "execute_result"
    }
   ],
   "source": [
    "df = gpd.read_file(\"geodata/MARINEBEACHES_PT.shp\")\n",
    "df = df[[\"BEACHNAME\", \"LATITUDE\", \"LONGITUDE\", \"COUNTYNAME\", \"geometry\"]]\n",
    "df = df.rename(columns={\"BEACHNAME\": \"Beach Name\"})\n",
    "df[\"Beach Name\"] = [name.split(\" -\")[0].split(\" (\")[0].split(\" @\")[0].split(\" Beach\")[0] for name in df[\"Beach Name\"]]\n",
    "df = df.loc[[val in public_beaches for val in list(df[\"Beach Name\"])]]\n",
    "df = df.drop_duplicates(\"Beach Name\")\n",
    "\n",
    "df.head(5)"
   ]
  },
  {
   "cell_type": "markdown",
   "metadata": {},
   "source": [
    "Example of the third data file: A csv of closed beaches along with the type of beach and the reason for closing"
   ]
  },
  {
   "cell_type": "code",
   "execution_count": 137,
   "metadata": {},
   "outputs": [
    {
     "data": {
      "text/html": [
       "<div>\n",
       "<style scoped>\n",
       "    .dataframe tbody tr th:only-of-type {\n",
       "        vertical-align: middle;\n",
       "    }\n",
       "\n",
       "    .dataframe tbody tr th {\n",
       "        vertical-align: top;\n",
       "    }\n",
       "\n",
       "    .dataframe thead th {\n",
       "        text-align: right;\n",
       "    }\n",
       "</style>\n",
       "<table border=\"1\" class=\"dataframe\">\n",
       "  <thead>\n",
       "    <tr style=\"text-align: right;\">\n",
       "      <th></th>\n",
       "      <th>Municipality</th>\n",
       "      <th>Beach</th>\n",
       "      <th>Beach Type</th>\n",
       "      <th>Posting Reason</th>\n",
       "    </tr>\n",
       "  </thead>\n",
       "  <tbody>\n",
       "    <tr>\n",
       "      <th>0</th>\n",
       "      <td>Agawam</td>\n",
       "      <td>Robinson Pond Beach (DCR)</td>\n",
       "      <td>Freshwater</td>\n",
       "      <td>Bacterial Exceedance</td>\n",
       "    </tr>\n",
       "    <tr>\n",
       "      <th>1</th>\n",
       "      <td>Ashby</td>\n",
       "      <td>Damon Pond Beach (DCR)</td>\n",
       "      <td>Freshwater</td>\n",
       "      <td>Bacterial Exceedance</td>\n",
       "    </tr>\n",
       "    <tr>\n",
       "      <th>2</th>\n",
       "      <td>Athol</td>\n",
       "      <td>Ellis Beach</td>\n",
       "      <td>Freshwater</td>\n",
       "      <td>Bacterial Exceedance</td>\n",
       "    </tr>\n",
       "    <tr>\n",
       "      <th>3</th>\n",
       "      <td>Beverly</td>\n",
       "      <td>Dane Street - Bathhouse</td>\n",
       "      <td>Marine</td>\n",
       "      <td>Bacterial Exceedance</td>\n",
       "    </tr>\n",
       "    <tr>\n",
       "      <th>4</th>\n",
       "      <td>Beverly</td>\n",
       "      <td>Brackenbury</td>\n",
       "      <td>Marine</td>\n",
       "      <td>Bacterial Exceedance</td>\n",
       "    </tr>\n",
       "  </tbody>\n",
       "</table>\n",
       "</div>"
      ],
      "text/plain": [
       "  Municipality                      Beach  Beach Type        Posting Reason\n",
       "0       Agawam  Robinson Pond Beach (DCR)  Freshwater  Bacterial Exceedance\n",
       "1        Ashby     Damon Pond Beach (DCR)  Freshwater  Bacterial Exceedance\n",
       "2        Athol                Ellis Beach  Freshwater  Bacterial Exceedance\n",
       "3      Beverly    Dane Street - Bathhouse      Marine  Bacterial Exceedance\n",
       "4      Beverly                Brackenbury      Marine  Bacterial Exceedance"
      ]
     },
     "execution_count": 137,
     "metadata": {},
     "output_type": "execute_result"
    }
   ],
   "source": [
    "example = pd.read_csv(f'closings/BeachPostingTbl-07-05-23.csv')\n",
    "example.head(5)"
   ]
  },
  {
   "cell_type": "markdown",
   "metadata": {},
   "source": [
    "## Feature Engineering: Beach Closings by Week"
   ]
  },
  {
   "cell_type": "markdown",
   "metadata": {},
   "source": [
    "All files were read in and filtered to marine beaches closed for bacterial exceedance to give us a list of closed beaches for that day. The information was put into a matrix with the columns as dates (all in July) and the rows as True (beach was closed on that day) or False (beach was open on that day)"
   ]
  },
  {
   "cell_type": "code",
   "execution_count": 138,
   "metadata": {},
   "outputs": [
    {
     "data": {
      "text/html": [
       "<div>\n",
       "<style scoped>\n",
       "    .dataframe tbody tr th:only-of-type {\n",
       "        vertical-align: middle;\n",
       "    }\n",
       "\n",
       "    .dataframe tbody tr th {\n",
       "        vertical-align: top;\n",
       "    }\n",
       "\n",
       "    .dataframe thead th {\n",
       "        text-align: right;\n",
       "    }\n",
       "</style>\n",
       "<table border=\"1\" class=\"dataframe\">\n",
       "  <thead>\n",
       "    <tr style=\"text-align: right;\">\n",
       "      <th></th>\n",
       "      <th>5</th>\n",
       "      <th>6</th>\n",
       "      <th>7</th>\n",
       "      <th>10</th>\n",
       "      <th>12</th>\n",
       "      <th>13</th>\n",
       "      <th>14</th>\n",
       "      <th>17</th>\n",
       "      <th>18</th>\n",
       "      <th>19</th>\n",
       "      <th>20</th>\n",
       "      <th>21</th>\n",
       "      <th>24</th>\n",
       "      <th>25</th>\n",
       "      <th>26</th>\n",
       "      <th>27</th>\n",
       "    </tr>\n",
       "  </thead>\n",
       "  <tbody>\n",
       "    <tr>\n",
       "      <th>0</th>\n",
       "      <td>True</td>\n",
       "      <td>True</td>\n",
       "      <td>True</td>\n",
       "      <td>False</td>\n",
       "      <td>False</td>\n",
       "      <td>False</td>\n",
       "      <td>False</td>\n",
       "      <td>False</td>\n",
       "      <td>False</td>\n",
       "      <td>True</td>\n",
       "      <td>False</td>\n",
       "      <td>False</td>\n",
       "      <td>True</td>\n",
       "      <td>False</td>\n",
       "      <td>False</td>\n",
       "      <td>False</td>\n",
       "    </tr>\n",
       "    <tr>\n",
       "      <th>59</th>\n",
       "      <td>False</td>\n",
       "      <td>False</td>\n",
       "      <td>False</td>\n",
       "      <td>False</td>\n",
       "      <td>False</td>\n",
       "      <td>False</td>\n",
       "      <td>False</td>\n",
       "      <td>False</td>\n",
       "      <td>False</td>\n",
       "      <td>False</td>\n",
       "      <td>False</td>\n",
       "      <td>False</td>\n",
       "      <td>False</td>\n",
       "      <td>False</td>\n",
       "      <td>False</td>\n",
       "      <td>False</td>\n",
       "    </tr>\n",
       "    <tr>\n",
       "      <th>64</th>\n",
       "      <td>False</td>\n",
       "      <td>False</td>\n",
       "      <td>False</td>\n",
       "      <td>False</td>\n",
       "      <td>False</td>\n",
       "      <td>False</td>\n",
       "      <td>False</td>\n",
       "      <td>False</td>\n",
       "      <td>False</td>\n",
       "      <td>False</td>\n",
       "      <td>False</td>\n",
       "      <td>False</td>\n",
       "      <td>False</td>\n",
       "      <td>False</td>\n",
       "      <td>False</td>\n",
       "      <td>False</td>\n",
       "    </tr>\n",
       "    <tr>\n",
       "      <th>85</th>\n",
       "      <td>False</td>\n",
       "      <td>True</td>\n",
       "      <td>True</td>\n",
       "      <td>False</td>\n",
       "      <td>False</td>\n",
       "      <td>False</td>\n",
       "      <td>False</td>\n",
       "      <td>False</td>\n",
       "      <td>False</td>\n",
       "      <td>False</td>\n",
       "      <td>False</td>\n",
       "      <td>False</td>\n",
       "      <td>False</td>\n",
       "      <td>False</td>\n",
       "      <td>False</td>\n",
       "      <td>False</td>\n",
       "    </tr>\n",
       "    <tr>\n",
       "      <th>93</th>\n",
       "      <td>False</td>\n",
       "      <td>False</td>\n",
       "      <td>True</td>\n",
       "      <td>False</td>\n",
       "      <td>False</td>\n",
       "      <td>False</td>\n",
       "      <td>False</td>\n",
       "      <td>False</td>\n",
       "      <td>False</td>\n",
       "      <td>False</td>\n",
       "      <td>False</td>\n",
       "      <td>False</td>\n",
       "      <td>False</td>\n",
       "      <td>False</td>\n",
       "      <td>False</td>\n",
       "      <td>False</td>\n",
       "    </tr>\n",
       "  </tbody>\n",
       "</table>\n",
       "</div>"
      ],
      "text/plain": [
       "       5      6      7      10     12     13     14     17     18     19  \\\n",
       "0    True   True   True  False  False  False  False  False  False   True   \n",
       "59  False  False  False  False  False  False  False  False  False  False   \n",
       "64  False  False  False  False  False  False  False  False  False  False   \n",
       "85  False   True   True  False  False  False  False  False  False  False   \n",
       "93  False  False   True  False  False  False  False  False  False  False   \n",
       "\n",
       "       20     21     24     25     26     27  \n",
       "0   False  False   True  False  False  False  \n",
       "59  False  False  False  False  False  False  \n",
       "64  False  False  False  False  False  False  \n",
       "85  False  False  False  False  False  False  \n",
       "93  False  False  False  False  False  False  "
      ]
     },
     "execution_count": 138,
     "metadata": {},
     "output_type": "execute_result"
    }
   ],
   "source": [
    "filenames = os.listdir(\"closings\")[1:]\n",
    "\n",
    "closings = pd.DataFrame()\n",
    "for filename in filenames:\n",
    "    beach = pd.read_csv(f'closings/{filename}')\n",
    "    beach[\"Beach\"] = [name.split(\" -\")[0].split(\" (\")[0].split(\" @\")[0].split(\" Beach\")[0] for name in beach[\"Beach\"]]\n",
    "    beach = beach[(beach[\"Posting Reason\"]==\"Bacterial Exceedance\") & (beach[\"Beach Type\"]==\"Marine\")]\n",
    "    closed_beaches = list(beach[\"Beach\"])\n",
    "\n",
    "    date = filename.split(\"-\")[2]\n",
    "\n",
    "    closings[int(date)] = df['Beach Name'].apply(lambda x: x in closed_beaches)\n",
    "\n",
    "closings.head(5)\n"
   ]
  },
  {
   "cell_type": "markdown",
   "metadata": {},
   "source": [
    "In order to turn this into features, we expressed these values as percent of the time that the beach was closed each week. For each week, we filtered the matrix of closings for only the days in those week, and calculated the percentage of time each beach was closed during that week. Then, we appended this to the dataframe of all beaches"
   ]
  },
  {
   "cell_type": "code",
   "execution_count": 139,
   "metadata": {},
   "outputs": [],
   "source": [
    "calendar = {\"W1 % Closed\":range(1,9),\n",
    "            \"W2 % Closed\":range(9,16),\n",
    "            \"W3 % Closed\":range(16,23)}\n",
    "\n",
    "for key, value in calendar.items():\n",
    "    dates_in_week = [date for date in list(closings.columns) if date in value]\n",
    "    filtered_df = closings[dates_in_week]\n",
    "    total_closings = filtered_df.sum(axis=1)\n",
    "    percent_closings = total_closings.apply(lambda x: x/len(dates_in_week))\n",
    "\n",
    "    df[key]= percent_closings    "
   ]
  },
  {
   "cell_type": "markdown",
   "metadata": {},
   "source": [
    "Histogram of beach closings - the majority of beaches were open, so if we were to use just this data by itself our model would likely overfit. However, we hope by incorperating location information (latitude and longitude) and weather information (rainfall), we can get a better model"
   ]
  },
  {
   "cell_type": "code",
   "execution_count": 140,
   "metadata": {},
   "outputs": [
    {
     "data": {
      "text/plain": [
       "<matplotlib.legend.Legend at 0x23487ed9820>"
      ]
     },
     "execution_count": 140,
     "metadata": {},
     "output_type": "execute_result"
    },
    {
     "data": {
      "image/png": "[encoded data removed]",
      "text/plain": [
       "<Figure size 640x480 with 1 Axes>"
      ]
     },
     "metadata": {},
     "output_type": "display_data"
    }
   ],
   "source": [
    "sns.set_theme()\n",
    "plt.hist(df[[\"W1 % Closed\", \"W2 % Closed\", \"W3 % Closed\"]], color=['skyblue','crimson','gold'], \n",
    "         label=[\"W1 % Closed\", \"W2 % Closed\", \"W3 % Closed\"])\n",
    "plt.legend()"
   ]
  },
  {
   "cell_type": "markdown",
   "metadata": {},
   "source": [
    "## Feature Engineering: Total Rainfall"
   ]
  },
  {
   "cell_type": "markdown",
   "metadata": {},
   "source": [
    "The OpenWeather API does not give access to any historical weather data, so I had to use the StormGlass API. However, this only allows for 10 calls per day, which is far too few for the amount of beaches in the dataset. So, for the weather data, I picked 8 cities along the different coastal zones in Massachussets and downloaded the weather data "
   ]
  },
  {
   "cell_type": "code",
   "execution_count": 62,
   "metadata": {},
   "outputs": [],
   "source": [
    "CITIES = [\"Ipswich\", \"Beverly\", \"Boston\", \"Marshfield\", \"Barnstable\", \"Wellfleet\", \"New Bedford\", \"Edgartown\"]\n",
    "COORDINATES = [[42.6792, -70.8412],\n",
    "               [42.5584, -70.8800],\n",
    "               [42.3601, -71.0589],\n",
    "               [42.0917, -70.7056],\n",
    "               [41.7003, -70.3002],\n",
    "               [41.9305, -70.0310],\n",
    "               [41.6362, -70.9342],\n",
    "               [41.3890, -70.5134]]"
   ]
  },
  {
   "cell_type": "code",
   "execution_count": 70,
   "metadata": {},
   "outputs": [],
   "source": [
    "API_KEY = \"02a656fa-8e37-11ee-8309-0242ac130002-02a657a4-8e37-11ee-8309-0242ac130002\"\n",
    "url = \"https://api.stormglass.io/v2/weather/point\"\n",
    "\n",
    "total_precipitation = []\n",
    "for coord in COORDINATES:\n",
    "    params = {\"lat\" : coord[0],\n",
    "              \"lng\" : coord[1],\n",
    "              \"params\" : \"precipitation\",\n",
    "              \"start\" : 1688270400,\n",
    "              \"end\" : 1690084799}\n",
    "\n",
    "    response = requests.get(url, params = params, headers={'Authorization': API_KEY})\n",
    "    data = response.json()\n",
    "    total_precipitation.append(sum([val[\"precipitation\"][\"noaa\"] for val in data[\"hours\"]]))"
   ]
  },
  {
   "cell_type": "code",
   "execution_count": 141,
   "metadata": {},
   "outputs": [
    {
     "data": {
      "text/html": [
       "<div>\n",
       "<style scoped>\n",
       "    .dataframe tbody tr th:only-of-type {\n",
       "        vertical-align: middle;\n",
       "    }\n",
       "\n",
       "    .dataframe tbody tr th {\n",
       "        vertical-align: top;\n",
       "    }\n",
       "\n",
       "    .dataframe thead th {\n",
       "        text-align: right;\n",
       "    }\n",
       "</style>\n",
       "<table border=\"1\" class=\"dataframe\">\n",
       "  <thead>\n",
       "    <tr style=\"text-align: right;\">\n",
       "      <th></th>\n",
       "      <th>Beach Name</th>\n",
       "      <th>LATITUDE</th>\n",
       "      <th>LONGITUDE</th>\n",
       "      <th>COUNTYNAME</th>\n",
       "      <th>geometry</th>\n",
       "      <th>W1 % Closed</th>\n",
       "      <th>W2 % Closed</th>\n",
       "      <th>W3 % Closed</th>\n",
       "      <th>Total Precipitation</th>\n",
       "    </tr>\n",
       "  </thead>\n",
       "  <tbody>\n",
       "    <tr>\n",
       "      <th>0</th>\n",
       "      <td>Wollaston</td>\n",
       "      <td>42.266521</td>\n",
       "      <td>-70.996756</td>\n",
       "      <td>Norfolk</td>\n",
       "      <td>POINT (241518.014 890794.791)</td>\n",
       "      <td>1.000000</td>\n",
       "      <td>0.0</td>\n",
       "      <td>0.2</td>\n",
       "      <td>44.23</td>\n",
       "    </tr>\n",
       "    <tr>\n",
       "      <th>59</th>\n",
       "      <td>Crocker Park</td>\n",
       "      <td>42.502692</td>\n",
       "      <td>-70.848354</td>\n",
       "      <td>Essex</td>\n",
       "      <td>POINT (253560.704 917110.151)</td>\n",
       "      <td>0.000000</td>\n",
       "      <td>0.0</td>\n",
       "      <td>0.0</td>\n",
       "      <td>44.23</td>\n",
       "    </tr>\n",
       "    <tr>\n",
       "      <th>64</th>\n",
       "      <td>Tudor</td>\n",
       "      <td>42.423344</td>\n",
       "      <td>-70.918056</td>\n",
       "      <td>Essex</td>\n",
       "      <td>POINT (247891.904 908255.061)</td>\n",
       "      <td>0.000000</td>\n",
       "      <td>0.0</td>\n",
       "      <td>0.0</td>\n",
       "      <td>44.23</td>\n",
       "    </tr>\n",
       "    <tr>\n",
       "      <th>85</th>\n",
       "      <td>Black Rock</td>\n",
       "      <td>42.430022</td>\n",
       "      <td>-70.934792</td>\n",
       "      <td>Essex</td>\n",
       "      <td>POINT (246509.694 908987.581)</td>\n",
       "      <td>0.666667</td>\n",
       "      <td>0.0</td>\n",
       "      <td>0.0</td>\n",
       "      <td>44.23</td>\n",
       "    </tr>\n",
       "    <tr>\n",
       "      <th>93</th>\n",
       "      <td>Short</td>\n",
       "      <td>42.433719</td>\n",
       "      <td>-70.934575</td>\n",
       "      <td>Essex</td>\n",
       "      <td>POINT (246524.834 909398.271)</td>\n",
       "      <td>0.333333</td>\n",
       "      <td>0.0</td>\n",
       "      <td>0.0</td>\n",
       "      <td>44.23</td>\n",
       "    </tr>\n",
       "  </tbody>\n",
       "</table>\n",
       "</div>"
      ],
      "text/plain": [
       "      Beach Name   LATITUDE  LONGITUDE COUNTYNAME  \\\n",
       "0      Wollaston  42.266521 -70.996756    Norfolk   \n",
       "59  Crocker Park  42.502692 -70.848354      Essex   \n",
       "64         Tudor  42.423344 -70.918056      Essex   \n",
       "85    Black Rock  42.430022 -70.934792      Essex   \n",
       "93         Short  42.433719 -70.934575      Essex   \n",
       "\n",
       "                         geometry  W1 % Closed  W2 % Closed  W3 % Closed  \\\n",
       "0   POINT (241518.014 890794.791)     1.000000          0.0          0.2   \n",
       "59  POINT (253560.704 917110.151)     0.000000          0.0          0.0   \n",
       "64  POINT (247891.904 908255.061)     0.000000          0.0          0.0   \n",
       "85  POINT (246509.694 908987.581)     0.666667          0.0          0.0   \n",
       "93  POINT (246524.834 909398.271)     0.333333          0.0          0.0   \n",
       "\n",
       "    Total Precipitation  \n",
       "0                 44.23  \n",
       "59                44.23  \n",
       "64                44.23  \n",
       "85                44.23  \n",
       "93                44.23  "
      ]
     },
     "execution_count": 141,
     "metadata": {},
     "output_type": "execute_result"
    }
   ],
   "source": [
    "closest_precipitation = []\n",
    "for beach in df[[\"LATITUDE\",\"LONGITUDE\"]].values.tolist():\n",
    "    distances = [math.dist(c,beach) for c in COORDINATES]\n",
    "    closest_precipitation.append(total_precipitation[distances.index(min(distances))])\n",
    "\n",
    "df[\"Total Precipitation\"]=closest_precipitation\n",
    "df.head(5)"
   ]
  },
  {
   "cell_type": "markdown",
   "metadata": {},
   "source": [
    "Add labels to dataframe"
   ]
  },
  {
   "cell_type": "code",
   "execution_count": 142,
   "metadata": {},
   "outputs": [
    {
     "data": {
      "text/html": [
       "<div>\n",
       "<style scoped>\n",
       "    .dataframe tbody tr th:only-of-type {\n",
       "        vertical-align: middle;\n",
       "    }\n",
       "\n",
       "    .dataframe tbody tr th {\n",
       "        vertical-align: top;\n",
       "    }\n",
       "\n",
       "    .dataframe thead th {\n",
       "        text-align: right;\n",
       "    }\n",
       "</style>\n",
       "<table border=\"1\" class=\"dataframe\">\n",
       "  <thead>\n",
       "    <tr style=\"text-align: right;\">\n",
       "      <th></th>\n",
       "      <th>Beach Name</th>\n",
       "      <th>LATITUDE</th>\n",
       "      <th>LONGITUDE</th>\n",
       "      <th>COUNTYNAME</th>\n",
       "      <th>geometry</th>\n",
       "      <th>W1 % Closed</th>\n",
       "      <th>W2 % Closed</th>\n",
       "      <th>W3 % Closed</th>\n",
       "      <th>Total Precipitation</th>\n",
       "      <th>Closed in Last Week of July</th>\n",
       "    </tr>\n",
       "  </thead>\n",
       "  <tbody>\n",
       "    <tr>\n",
       "      <th>0</th>\n",
       "      <td>Wollaston</td>\n",
       "      <td>42.266521</td>\n",
       "      <td>-70.996756</td>\n",
       "      <td>Norfolk</td>\n",
       "      <td>POINT (241518.014 890794.791)</td>\n",
       "      <td>1.000000</td>\n",
       "      <td>0.0</td>\n",
       "      <td>0.2</td>\n",
       "      <td>44.23</td>\n",
       "      <td>True</td>\n",
       "    </tr>\n",
       "    <tr>\n",
       "      <th>59</th>\n",
       "      <td>Crocker Park</td>\n",
       "      <td>42.502692</td>\n",
       "      <td>-70.848354</td>\n",
       "      <td>Essex</td>\n",
       "      <td>POINT (253560.704 917110.151)</td>\n",
       "      <td>0.000000</td>\n",
       "      <td>0.0</td>\n",
       "      <td>0.0</td>\n",
       "      <td>44.23</td>\n",
       "      <td>False</td>\n",
       "    </tr>\n",
       "    <tr>\n",
       "      <th>64</th>\n",
       "      <td>Tudor</td>\n",
       "      <td>42.423344</td>\n",
       "      <td>-70.918056</td>\n",
       "      <td>Essex</td>\n",
       "      <td>POINT (247891.904 908255.061)</td>\n",
       "      <td>0.000000</td>\n",
       "      <td>0.0</td>\n",
       "      <td>0.0</td>\n",
       "      <td>44.23</td>\n",
       "      <td>False</td>\n",
       "    </tr>\n",
       "    <tr>\n",
       "      <th>85</th>\n",
       "      <td>Black Rock</td>\n",
       "      <td>42.430022</td>\n",
       "      <td>-70.934792</td>\n",
       "      <td>Essex</td>\n",
       "      <td>POINT (246509.694 908987.581)</td>\n",
       "      <td>0.666667</td>\n",
       "      <td>0.0</td>\n",
       "      <td>0.0</td>\n",
       "      <td>44.23</td>\n",
       "      <td>False</td>\n",
       "    </tr>\n",
       "    <tr>\n",
       "      <th>93</th>\n",
       "      <td>Short</td>\n",
       "      <td>42.433719</td>\n",
       "      <td>-70.934575</td>\n",
       "      <td>Essex</td>\n",
       "      <td>POINT (246524.834 909398.271)</td>\n",
       "      <td>0.333333</td>\n",
       "      <td>0.0</td>\n",
       "      <td>0.0</td>\n",
       "      <td>44.23</td>\n",
       "      <td>False</td>\n",
       "    </tr>\n",
       "  </tbody>\n",
       "</table>\n",
       "</div>"
      ],
      "text/plain": [
       "      Beach Name   LATITUDE  LONGITUDE COUNTYNAME  \\\n",
       "0      Wollaston  42.266521 -70.996756    Norfolk   \n",
       "59  Crocker Park  42.502692 -70.848354      Essex   \n",
       "64         Tudor  42.423344 -70.918056      Essex   \n",
       "85    Black Rock  42.430022 -70.934792      Essex   \n",
       "93         Short  42.433719 -70.934575      Essex   \n",
       "\n",
       "                         geometry  W1 % Closed  W2 % Closed  W3 % Closed  \\\n",
       "0   POINT (241518.014 890794.791)     1.000000          0.0          0.2   \n",
       "59  POINT (253560.704 917110.151)     0.000000          0.0          0.0   \n",
       "64  POINT (247891.904 908255.061)     0.000000          0.0          0.0   \n",
       "85  POINT (246509.694 908987.581)     0.666667          0.0          0.0   \n",
       "93  POINT (246524.834 909398.271)     0.333333          0.0          0.0   \n",
       "\n",
       "    Total Precipitation  Closed in Last Week of July  \n",
       "0                 44.23                         True  \n",
       "59                44.23                        False  \n",
       "64                44.23                        False  \n",
       "85                44.23                        False  \n",
       "93                44.23                        False  "
      ]
     },
     "execution_count": 142,
     "metadata": {},
     "output_type": "execute_result"
    }
   ],
   "source": [
    "last_week = closings[[24,25,26,27]]\n",
    "df[\"Closed in Last Week of July\"] = [val != 0 for val in last_week.sum(axis=1)]\n",
    "\n",
    "df.head(5)"
   ]
  },
  {
   "cell_type": "markdown",
   "metadata": {},
   "source": [
    "## Algorithm: KNN Classfier"
   ]
  },
  {
   "cell_type": "code",
   "execution_count": 147,
   "metadata": {},
   "outputs": [],
   "source": [
    "features = df[[\"LATITUDE\",\"LONGITUDE\",\"W1 % Closed\",\"W2 % Closed\",\"W3 % Closed\",\"Total Precipitation\"]]\n",
    "labels = list(df[\"Closed in Last Week of July\"])\n",
    "\n",
    "scaler = MinMaxScaler()\n",
    "scaler.fit(features)\n",
    "features = scaler.transform(features)"
   ]
  },
  {
   "cell_type": "markdown",
   "metadata": {},
   "source": [
    "## Accuracy"
   ]
  },
  {
   "cell_type": "code",
   "execution_count": 169,
   "metadata": {},
   "outputs": [
    {
     "name": "stdout",
     "output_type": "stream",
     "text": [
      "4 neighbors: 0.9520853618954885\n",
      "5 neighbors: 0.9520447906523857\n",
      "6 neighbors: 0.9584550470626421\n",
      "7 neighbors: 0.9552499188575139\n",
      "8 neighbors: 0.9521259331385914\n",
      "9 neighbors: 0.9521259331385914\n",
      "10 neighbors: 0.9521259331385914\n",
      "11 neighbors: 0.9521259331385914\n",
      "12 neighbors: 0.945715676728335\n",
      "13 neighbors: 0.9489208049334632\n",
      "14 neighbors: 0.9489208049334632\n",
      "15 neighbors: 0.9489208049334632\n",
      "16 neighbors: 0.945715676728335\n",
      "17 neighbors: 0.9521259331385914\n",
      "18 neighbors: 0.945715676728335\n"
     ]
    }
   ],
   "source": [
    "# test the ks\n",
    "ks = list(range(4,19))\n",
    "\n",
    "accuracy_scores = []\n",
    "for k in ks:\n",
    "    train_features, test_features, train_labels, test_labels = train_test_split(features, labels, random_state=0)\n",
    "    knn = KNeighborsClassifier(n_neighbors=k)\n",
    "    knn = knn.fit(train_features, train_labels)\n",
    "    kf = KFold(n_splits=4, random_state=0, shuffle=True)\n",
    "    cv_scores = cross_val_score(knn, features, labels, cv=kf, scoring=\"accuracy\")\n",
    "    print(f'{k} neighbors: {np.mean(cv_scores)}')\n",
    "    accuracy_scores.append(np.mean(cv_scores))"
   ]
  },
  {
   "cell_type": "code",
   "execution_count": 171,
   "metadata": {},
   "outputs": [
    {
     "name": "stdout",
     "output_type": "stream",
     "text": [
      "Best k: 6\n"
     ]
    }
   ],
   "source": [
    "print(f'Best k: {ks[accuracy_scores.index(max(accuracy_scores))]}')"
   ]
  },
  {
   "cell_type": "markdown",
   "metadata": {},
   "source": [
    "## Precision"
   ]
  },
  {
   "cell_type": "code",
   "execution_count": 172,
   "metadata": {},
   "outputs": [
    {
     "name": "stdout",
     "output_type": "stream",
     "text": [
      "4 neighbors: 0.75\n",
      "5 neighbors: 0.7083333333333334\n",
      "6 neighbors: 0.875\n",
      "7 neighbors: 0.75\n"
     ]
    },
    {
     "name": "stderr",
     "output_type": "stream",
     "text": [
      "c:\\Users\\tamar\\anaconda3\\envs\\mass_beach\\lib\\site-packages\\sklearn\\metrics\\_classification.py:1471: UndefinedMetricWarning: Precision is ill-defined and being set to 0.0 due to no predicted samples. Use `zero_division` parameter to control this behavior.\n",
      "  _warn_prf(average, modifier, msg_start, len(result))\n",
      "c:\\Users\\tamar\\anaconda3\\envs\\mass_beach\\lib\\site-packages\\sklearn\\metrics\\_classification.py:1471: UndefinedMetricWarning: Precision is ill-defined and being set to 0.0 due to no predicted samples. Use `zero_division` parameter to control this behavior.\n",
      "  _warn_prf(average, modifier, msg_start, len(result))\n",
      "c:\\Users\\tamar\\anaconda3\\envs\\mass_beach\\lib\\site-packages\\sklearn\\metrics\\_classification.py:1471: UndefinedMetricWarning: Precision is ill-defined and being set to 0.0 due to no predicted samples. Use `zero_division` parameter to control this behavior.\n",
      "  _warn_prf(average, modifier, msg_start, len(result))\n"
     ]
    },
    {
     "name": "stdout",
     "output_type": "stream",
     "text": [
      "8 neighbors: 0.625\n",
      "9 neighbors: 0.625\n",
      "10 neighbors: 0.625\n"
     ]
    },
    {
     "name": "stderr",
     "output_type": "stream",
     "text": [
      "c:\\Users\\tamar\\anaconda3\\envs\\mass_beach\\lib\\site-packages\\sklearn\\metrics\\_classification.py:1471: UndefinedMetricWarning: Precision is ill-defined and being set to 0.0 due to no predicted samples. Use `zero_division` parameter to control this behavior.\n",
      "  _warn_prf(average, modifier, msg_start, len(result))\n",
      "c:\\Users\\tamar\\anaconda3\\envs\\mass_beach\\lib\\site-packages\\sklearn\\metrics\\_classification.py:1471: UndefinedMetricWarning: Precision is ill-defined and being set to 0.0 due to no predicted samples. Use `zero_division` parameter to control this behavior.\n",
      "  _warn_prf(average, modifier, msg_start, len(result))\n",
      "c:\\Users\\tamar\\anaconda3\\envs\\mass_beach\\lib\\site-packages\\sklearn\\metrics\\_classification.py:1471: UndefinedMetricWarning: Precision is ill-defined and being set to 0.0 due to no predicted samples. Use `zero_division` parameter to control this behavior.\n",
      "  _warn_prf(average, modifier, msg_start, len(result))\n",
      "c:\\Users\\tamar\\anaconda3\\envs\\mass_beach\\lib\\site-packages\\sklearn\\metrics\\_classification.py:1471: UndefinedMetricWarning: Precision is ill-defined and being set to 0.0 due to no predicted samples. Use `zero_division` parameter to control this behavior.\n",
      "  _warn_prf(average, modifier, msg_start, len(result))\n",
      "c:\\Users\\tamar\\anaconda3\\envs\\mass_beach\\lib\\site-packages\\sklearn\\metrics\\_classification.py:1471: UndefinedMetricWarning: Precision is ill-defined and being set to 0.0 due to no predicted samples. Use `zero_division` parameter to control this behavior.\n",
      "  _warn_prf(average, modifier, msg_start, len(result))\n",
      "c:\\Users\\tamar\\anaconda3\\envs\\mass_beach\\lib\\site-packages\\sklearn\\metrics\\_classification.py:1471: UndefinedMetricWarning: Precision is ill-defined and being set to 0.0 due to no predicted samples. Use `zero_division` parameter to control this behavior.\n",
      "  _warn_prf(average, modifier, msg_start, len(result))\n",
      "c:\\Users\\tamar\\anaconda3\\envs\\mass_beach\\lib\\site-packages\\sklearn\\metrics\\_classification.py:1471: UndefinedMetricWarning: Precision is ill-defined and being set to 0.0 due to no predicted samples. Use `zero_division` parameter to control this behavior.\n",
      "  _warn_prf(average, modifier, msg_start, len(result))\n"
     ]
    },
    {
     "name": "stdout",
     "output_type": "stream",
     "text": [
      "11 neighbors: 0.625\n",
      "12 neighbors: 0.125\n",
      "13 neighbors: 0.375\n",
      "14 neighbors: 0.375\n"
     ]
    },
    {
     "name": "stderr",
     "output_type": "stream",
     "text": [
      "c:\\Users\\tamar\\anaconda3\\envs\\mass_beach\\lib\\site-packages\\sklearn\\metrics\\_classification.py:1471: UndefinedMetricWarning: Precision is ill-defined and being set to 0.0 due to no predicted samples. Use `zero_division` parameter to control this behavior.\n",
      "  _warn_prf(average, modifier, msg_start, len(result))\n",
      "c:\\Users\\tamar\\anaconda3\\envs\\mass_beach\\lib\\site-packages\\sklearn\\metrics\\_classification.py:1471: UndefinedMetricWarning: Precision is ill-defined and being set to 0.0 due to no predicted samples. Use `zero_division` parameter to control this behavior.\n",
      "  _warn_prf(average, modifier, msg_start, len(result))\n",
      "c:\\Users\\tamar\\anaconda3\\envs\\mass_beach\\lib\\site-packages\\sklearn\\metrics\\_classification.py:1471: UndefinedMetricWarning: Precision is ill-defined and being set to 0.0 due to no predicted samples. Use `zero_division` parameter to control this behavior.\n",
      "  _warn_prf(average, modifier, msg_start, len(result))\n",
      "c:\\Users\\tamar\\anaconda3\\envs\\mass_beach\\lib\\site-packages\\sklearn\\metrics\\_classification.py:1471: UndefinedMetricWarning: Precision is ill-defined and being set to 0.0 due to no predicted samples. Use `zero_division` parameter to control this behavior.\n",
      "  _warn_prf(average, modifier, msg_start, len(result))\n",
      "c:\\Users\\tamar\\anaconda3\\envs\\mass_beach\\lib\\site-packages\\sklearn\\metrics\\_classification.py:1471: UndefinedMetricWarning: Precision is ill-defined and being set to 0.0 due to no predicted samples. Use `zero_division` parameter to control this behavior.\n",
      "  _warn_prf(average, modifier, msg_start, len(result))\n",
      "c:\\Users\\tamar\\anaconda3\\envs\\mass_beach\\lib\\site-packages\\sklearn\\metrics\\_classification.py:1471: UndefinedMetricWarning: Precision is ill-defined and being set to 0.0 due to no predicted samples. Use `zero_division` parameter to control this behavior.\n",
      "  _warn_prf(average, modifier, msg_start, len(result))\n"
     ]
    },
    {
     "name": "stdout",
     "output_type": "stream",
     "text": [
      "15 neighbors: 0.375\n",
      "16 neighbors: 0.0\n",
      "17 neighbors: 0.5\n",
      "18 neighbors: 0.0\n"
     ]
    },
    {
     "name": "stderr",
     "output_type": "stream",
     "text": [
      "c:\\Users\\tamar\\anaconda3\\envs\\mass_beach\\lib\\site-packages\\sklearn\\metrics\\_classification.py:1471: UndefinedMetricWarning: Precision is ill-defined and being set to 0.0 due to no predicted samples. Use `zero_division` parameter to control this behavior.\n",
      "  _warn_prf(average, modifier, msg_start, len(result))\n",
      "c:\\Users\\tamar\\anaconda3\\envs\\mass_beach\\lib\\site-packages\\sklearn\\metrics\\_classification.py:1471: UndefinedMetricWarning: Precision is ill-defined and being set to 0.0 due to no predicted samples. Use `zero_division` parameter to control this behavior.\n",
      "  _warn_prf(average, modifier, msg_start, len(result))\n",
      "c:\\Users\\tamar\\anaconda3\\envs\\mass_beach\\lib\\site-packages\\sklearn\\metrics\\_classification.py:1471: UndefinedMetricWarning: Precision is ill-defined and being set to 0.0 due to no predicted samples. Use `zero_division` parameter to control this behavior.\n",
      "  _warn_prf(average, modifier, msg_start, len(result))\n",
      "c:\\Users\\tamar\\anaconda3\\envs\\mass_beach\\lib\\site-packages\\sklearn\\metrics\\_classification.py:1471: UndefinedMetricWarning: Precision is ill-defined and being set to 0.0 due to no predicted samples. Use `zero_division` parameter to control this behavior.\n",
      "  _warn_prf(average, modifier, msg_start, len(result))\n",
      "c:\\Users\\tamar\\anaconda3\\envs\\mass_beach\\lib\\site-packages\\sklearn\\metrics\\_classification.py:1471: UndefinedMetricWarning: Precision is ill-defined and being set to 0.0 due to no predicted samples. Use `zero_division` parameter to control this behavior.\n",
      "  _warn_prf(average, modifier, msg_start, len(result))\n",
      "c:\\Users\\tamar\\anaconda3\\envs\\mass_beach\\lib\\site-packages\\sklearn\\metrics\\_classification.py:1471: UndefinedMetricWarning: Precision is ill-defined and being set to 0.0 due to no predicted samples. Use `zero_division` parameter to control this behavior.\n",
      "  _warn_prf(average, modifier, msg_start, len(result))\n",
      "c:\\Users\\tamar\\anaconda3\\envs\\mass_beach\\lib\\site-packages\\sklearn\\metrics\\_classification.py:1471: UndefinedMetricWarning: Precision is ill-defined and being set to 0.0 due to no predicted samples. Use `zero_division` parameter to control this behavior.\n",
      "  _warn_prf(average, modifier, msg_start, len(result))\n"
     ]
    }
   ],
   "source": [
    "# test the ks\n",
    "ks = list(range(4,19))\n",
    "\n",
    "precision_scores = []\n",
    "for k in ks:\n",
    "    train_features, test_features, train_labels, test_labels = train_test_split(features, labels, random_state=0)\n",
    "    knn = KNeighborsClassifier(n_neighbors=k)\n",
    "    knn = knn.fit(train_features, train_labels)\n",
    "    kf = KFold(n_splits=4, random_state=0, shuffle=True)\n",
    "    cv_scores = cross_val_score(knn, features, labels, cv=kf, scoring=\"precision\")\n",
    "    print(f'{k} neighbors: {np.mean(cv_scores)}')\n",
    "    precision_scores.append(np.mean(cv_scores))"
   ]
  },
  {
   "cell_type": "code",
   "execution_count": 173,
   "metadata": {},
   "outputs": [
    {
     "name": "stdout",
     "output_type": "stream",
     "text": [
      "Best k: 6\n"
     ]
    }
   ],
   "source": [
    "print(f'Best k: {ks[precision_scores.index(max(precision_scores))]}')"
   ]
  },
  {
   "cell_type": "markdown",
   "metadata": {},
   "source": [
    "## Recall"
   ]
  },
  {
   "cell_type": "code",
   "execution_count": 174,
   "metadata": {},
   "outputs": [
    {
     "name": "stdout",
     "output_type": "stream",
     "text": [
      "4 neighbors: 0.2791666666666667\n",
      "5 neighbors: 0.32916666666666666\n",
      "6 neighbors: 0.32916666666666666\n",
      "7 neighbors: 0.32916666666666666\n",
      "8 neighbors: 0.22916666666666666\n",
      "9 neighbors: 0.22916666666666666\n",
      "10 neighbors: 0.22916666666666666\n",
      "11 neighbors: 0.22916666666666666\n",
      "12 neighbors: 0.0625\n",
      "13 neighbors: 0.1875\n",
      "14 neighbors: 0.1875\n",
      "15 neighbors: 0.1875\n",
      "16 neighbors: 0.0\n",
      "17 neighbors: 0.1875\n",
      "18 neighbors: 0.0\n"
     ]
    }
   ],
   "source": [
    "# test the ks\n",
    "ks = list(range(4,19))\n",
    "\n",
    "recall_scores = []\n",
    "for k in ks:\n",
    "    train_features, test_features, train_labels, test_labels = train_test_split(features, labels, random_state=0)\n",
    "    knn = KNeighborsClassifier(n_neighbors=k)\n",
    "    knn = knn.fit(train_features, train_labels)\n",
    "    kf = KFold(n_splits=4, random_state=0, shuffle=True)\n",
    "    cv_scores = cross_val_score(knn, features, labels, cv=kf, scoring=\"recall\")\n",
    "    print(f'{k} neighbors: {np.mean(cv_scores)}')\n",
    "    recall_scores.append(np.mean(cv_scores))"
   ]
  },
  {
   "cell_type": "code",
   "execution_count": 175,
   "metadata": {},
   "outputs": [
    {
     "name": "stdout",
     "output_type": "stream",
     "text": [
      "Best k: 5\n"
     ]
    }
   ],
   "source": [
    "print(f'Best k: {ks[recall_scores.index(max(recall_scores))]}')"
   ]
  },
  {
   "cell_type": "markdown",
   "metadata": {},
   "source": [
    "## Using the optimal k overall (6) to calculate the F1 Score"
   ]
  },
  {
   "cell_type": "code",
   "execution_count": 177,
   "metadata": {},
   "outputs": [
    {
     "name": "stdout",
     "output_type": "stream",
     "text": [
      "F1 score for beaches that closed: 0.5714\n"
     ]
    }
   ],
   "source": [
    "k = 6\n",
    "train_features, test_features, train_labels, test_labels = train_test_split(features, labels, random_state=0)\n",
    "knn = KNeighborsClassifier(n_neighbors=k)\n",
    "knn = knn.fit(train_features, train_labels)\n",
    "predicted_to_close = knn.predict(test_features)\n",
    "\n",
    "print(f'F1 score for beaches that closed: {round(metrics.f1_score(test_labels, predicted_to_close), 4)}')"
   ]
  },
  {
   "cell_type": "markdown",
   "metadata": {},
   "source": [
    "## Confusion Matrix"
   ]
  },
  {
   "cell_type": "code",
   "execution_count": 181,
   "metadata": {},
   "outputs": [
    {
     "name": "stdout",
     "output_type": "stream",
     "text": [
      "[[74  0]\n",
      " [ 3  2]]\n"
     ]
    },
    {
     "data": {
      "text/plain": [
       "<Axes: >"
      ]
     },
     "execution_count": 181,
     "metadata": {},
     "output_type": "execute_result"
    },
    {
     "data": {
      "image/png": "[encoded data removed]",
      "text/plain": [
       "<Figure size 640x480 with 2 Axes>"
      ]
     },
     "metadata": {},
     "output_type": "display_data"
    }
   ],
   "source": [
    "k = 6\n",
    "train_features, test_features, train_labels, test_labels = train_test_split(features, labels, random_state=0)\n",
    "knn = KNeighborsClassifier(n_neighbors=k)\n",
    "knn = knn.fit(train_features, train_labels)\n",
    "predictions = knn.predict(test_features)\n",
    "mat = metrics.confusion_matrix(test_labels,predictions)\n",
    "\n",
    "print(mat)\n",
    "sns.heatmap(mat)"
   ]
  },
  {
   "cell_type": "markdown",
   "metadata": {},
   "source": [
    "## Summary Plot of Accuracy, Precision, and Recall"
   ]
  },
  {
   "cell_type": "code",
   "execution_count": 182,
   "metadata": {},
   "outputs": [],
   "source": [
    "plt_dat = pd.DataFrame(zip(accuracy_scores, precision_scores, recall_scores), columns=[\"Accuracy\", \"Precision\", \"Recall\"], index=ks)"
   ]
  },
  {
   "cell_type": "code",
   "execution_count": 183,
   "metadata": {},
   "outputs": [
    {
     "data": {
      "text/plain": [
       "[Text(0.5, 0, 'k'), Text(0, 0.5, 'Score')]"
      ]
     },
     "execution_count": 183,
     "metadata": {},
     "output_type": "execute_result"
    },
    {
     "data": {
      "image/png": "[encoded data removed]",
      "text/plain": [
       "<Figure size 640x480 with 1 Axes>"
      ]
     },
     "metadata": {},
     "output_type": "display_data"
    }
   ],
   "source": [
    "sns.lineplot(plt_dat).set(xlabel='k', ylabel='Score')"
   ]
  }
 ],
 "metadata": {
  "kernelspec": {
   "display_name": "mass_beach",
   "language": "python",
   "name": "python3"
  },
  "language_info": {
   "codemirror_mode": {
    "name": "ipython",
    "version": 3
   },
   "file_extension": ".py",
   "mimetype": "text/x-python",
   "name": "python",
   "nbconvert_exporter": "python",
   "pygments_lexer": "ipython3",
   "version": "3.9.18"
  }
 },
 "nbformat": 4,
 "nbformat_minor": 2
}
